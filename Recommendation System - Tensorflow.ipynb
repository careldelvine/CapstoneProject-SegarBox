{
  "nbformat": 4,
  "nbformat_minor": 0,
  "metadata": {
    "colab": {
      "name": "Untitled7.ipynb",
      "provenance": [],
      "authorship_tag": "ABX9TyORfEC9MjlX2YM1ExFAAsZv",
      "include_colab_link": true
    },
    "kernelspec": {
      "name": "python3",
      "display_name": "Python 3"
    },
    "language_info": {
      "name": "python"
    }
  },
  "cells": [
    {
      "cell_type": "markdown",
      "metadata": {
        "id": "view-in-github",
        "colab_type": "text"
      },
      "source": [
        "<a href=\"https://colab.research.google.com/github/careldelvine/CapstoneProject-SegarBox/blob/main/Recommendation%20System%20-%20Tensorflow.ipynb\" target=\"_parent\"><img src=\"https://colab.research.google.com/assets/colab-badge.svg\" alt=\"Open In Colab\"/></a>"
      ]
    },
    {
      "cell_type": "code",
      "execution_count": 1,
      "metadata": {
        "colab": {
          "base_uri": "https://localhost:8080/"
        },
        "id": "3HqV_kaATy2e",
        "outputId": "2a06d3b2-f8eb-424d-adcb-537a1d7cea4d"
      },
      "outputs": [
        {
          "output_type": "stream",
          "name": "stdout",
          "text": [
            "\u001b[K     |████████████████████████████████| 88 kB 6.7 MB/s \n",
            "\u001b[K     |████████████████████████████████| 511.7 MB 5.8 kB/s \n",
            "\u001b[K     |████████████████████████████████| 5.8 MB 46.8 MB/s \n",
            "\u001b[K     |████████████████████████████████| 1.6 MB 44.1 MB/s \n",
            "\u001b[K     |████████████████████████████████| 438 kB 72.2 MB/s \n",
            "\u001b[K     |████████████████████████████████| 4.3 MB 31.1 MB/s \n",
            "\u001b[K     |████████████████████████████████| 11.2 MB 12.8 MB/s \n",
            "\u001b[?25h"
          ]
        }
      ],
      "source": [
        "import os\n",
        "!pip install -q tensorflow-recommenders\n",
        "!pip install -q --upgrade tensorflow-datasets\n",
        "!pip install -q scann"
      ]
    },
    {
      "cell_type": "code",
      "source": [
        "p = os.path.abspath('./Dataset')\n",
        "base = os.path.abspath('.')\n",
        "print(p)\n",
        "\n",
        "total_data = 100000\n",
        "train_data = int(total_data * 0.8)\n",
        "test_data = int(total_data - train_data)"
      ],
      "metadata": {
        "colab": {
          "base_uri": "https://localhost:8080/"
        },
        "id": "htKqtghwUMBh",
        "outputId": "19f9b5e7-31be-4291-eefe-b5bbc4e4f115"
      },
      "execution_count": 2,
      "outputs": [
        {
          "output_type": "stream",
          "name": "stdout",
          "text": [
            "/content/Dataset\n"
          ]
        }
      ]
    },
    {
      "cell_type": "code",
      "source": [
        "import pprint\n",
        "import tempfile\n",
        "\n",
        "from typing import Dict, Text\n",
        "\n",
        "import numpy as np\n",
        "import pandas as pd\n",
        "import tensorflow as tf\n",
        "import tensorflow_datasets as tfds\n",
        "import tensorflow_recommenders as tfrs"
      ],
      "metadata": {
        "id": "OZe7IswDUMX8"
      },
      "execution_count": 3,
      "outputs": []
    },
    {
      "cell_type": "code",
      "source": [
        ""
      ],
      "metadata": {
        "id": "CQUBwvwZUVNN"
      },
      "execution_count": 3,
      "outputs": []
    },
    {
      "cell_type": "code",
      "source": [
        "#Loading the dataset\n",
        "\n",
        "url = 'https://raw.githubusercontent.com/SegarBox/Recommendation-System/main/Dataset/ratings_Beauty.csv'\n",
        "train = pd.read_csv(url)\n",
        "train = train.dropna()\n",
        "train.head()"
      ],
      "metadata": {
        "colab": {
          "base_uri": "https://localhost:8080/",
          "height": 206
        },
        "id": "o2x5NJlhUVed",
        "outputId": "1e526de0-9586-424b-d054-dd62cae47568"
      },
      "execution_count": 4,
      "outputs": [
        {
          "output_type": "execute_result",
          "data": {
            "text/plain": [
              "           UserId   ProductId  Rating   Timestamp\n",
              "0  A39HTATAQ9V7YF  0205616461     5.0  1369699200\n",
              "1  A3JM6GV9MNOF9X  0558925278     3.0  1355443200\n",
              "2  A1Z513UWSAAO0F  0558925278     5.0  1404691200\n",
              "3  A1WMRR494NWEWV  0733001998     4.0  1382572800\n",
              "4  A3IAAVS479H7M7  0737104473     1.0  1274227200"
            ],
            "text/html": [
              "\n",
              "  <div id=\"df-d29af382-41bf-4528-9749-715293e5b2d8\">\n",
              "    <div class=\"colab-df-container\">\n",
              "      <div>\n",
              "<style scoped>\n",
              "    .dataframe tbody tr th:only-of-type {\n",
              "        vertical-align: middle;\n",
              "    }\n",
              "\n",
              "    .dataframe tbody tr th {\n",
              "        vertical-align: top;\n",
              "    }\n",
              "\n",
              "    .dataframe thead th {\n",
              "        text-align: right;\n",
              "    }\n",
              "</style>\n",
              "<table border=\"1\" class=\"dataframe\">\n",
              "  <thead>\n",
              "    <tr style=\"text-align: right;\">\n",
              "      <th></th>\n",
              "      <th>UserId</th>\n",
              "      <th>ProductId</th>\n",
              "      <th>Rating</th>\n",
              "      <th>Timestamp</th>\n",
              "    </tr>\n",
              "  </thead>\n",
              "  <tbody>\n",
              "    <tr>\n",
              "      <th>0</th>\n",
              "      <td>A39HTATAQ9V7YF</td>\n",
              "      <td>0205616461</td>\n",
              "      <td>5.0</td>\n",
              "      <td>1369699200</td>\n",
              "    </tr>\n",
              "    <tr>\n",
              "      <th>1</th>\n",
              "      <td>A3JM6GV9MNOF9X</td>\n",
              "      <td>0558925278</td>\n",
              "      <td>3.0</td>\n",
              "      <td>1355443200</td>\n",
              "    </tr>\n",
              "    <tr>\n",
              "      <th>2</th>\n",
              "      <td>A1Z513UWSAAO0F</td>\n",
              "      <td>0558925278</td>\n",
              "      <td>5.0</td>\n",
              "      <td>1404691200</td>\n",
              "    </tr>\n",
              "    <tr>\n",
              "      <th>3</th>\n",
              "      <td>A1WMRR494NWEWV</td>\n",
              "      <td>0733001998</td>\n",
              "      <td>4.0</td>\n",
              "      <td>1382572800</td>\n",
              "    </tr>\n",
              "    <tr>\n",
              "      <th>4</th>\n",
              "      <td>A3IAAVS479H7M7</td>\n",
              "      <td>0737104473</td>\n",
              "      <td>1.0</td>\n",
              "      <td>1274227200</td>\n",
              "    </tr>\n",
              "  </tbody>\n",
              "</table>\n",
              "</div>\n",
              "      <button class=\"colab-df-convert\" onclick=\"convertToInteractive('df-d29af382-41bf-4528-9749-715293e5b2d8')\"\n",
              "              title=\"Convert this dataframe to an interactive table.\"\n",
              "              style=\"display:none;\">\n",
              "        \n",
              "  <svg xmlns=\"http://www.w3.org/2000/svg\" height=\"24px\"viewBox=\"0 0 24 24\"\n",
              "       width=\"24px\">\n",
              "    <path d=\"M0 0h24v24H0V0z\" fill=\"none\"/>\n",
              "    <path d=\"M18.56 5.44l.94 2.06.94-2.06 2.06-.94-2.06-.94-.94-2.06-.94 2.06-2.06.94zm-11 1L8.5 8.5l.94-2.06 2.06-.94-2.06-.94L8.5 2.5l-.94 2.06-2.06.94zm10 10l.94 2.06.94-2.06 2.06-.94-2.06-.94-.94-2.06-.94 2.06-2.06.94z\"/><path d=\"M17.41 7.96l-1.37-1.37c-.4-.4-.92-.59-1.43-.59-.52 0-1.04.2-1.43.59L10.3 9.45l-7.72 7.72c-.78.78-.78 2.05 0 2.83L4 21.41c.39.39.9.59 1.41.59.51 0 1.02-.2 1.41-.59l7.78-7.78 2.81-2.81c.8-.78.8-2.07 0-2.86zM5.41 20L4 18.59l7.72-7.72 1.47 1.35L5.41 20z\"/>\n",
              "  </svg>\n",
              "      </button>\n",
              "      \n",
              "  <style>\n",
              "    .colab-df-container {\n",
              "      display:flex;\n",
              "      flex-wrap:wrap;\n",
              "      gap: 12px;\n",
              "    }\n",
              "\n",
              "    .colab-df-convert {\n",
              "      background-color: #E8F0FE;\n",
              "      border: none;\n",
              "      border-radius: 50%;\n",
              "      cursor: pointer;\n",
              "      display: none;\n",
              "      fill: #1967D2;\n",
              "      height: 32px;\n",
              "      padding: 0 0 0 0;\n",
              "      width: 32px;\n",
              "    }\n",
              "\n",
              "    .colab-df-convert:hover {\n",
              "      background-color: #E2EBFA;\n",
              "      box-shadow: 0px 1px 2px rgba(60, 64, 67, 0.3), 0px 1px 3px 1px rgba(60, 64, 67, 0.15);\n",
              "      fill: #174EA6;\n",
              "    }\n",
              "\n",
              "    [theme=dark] .colab-df-convert {\n",
              "      background-color: #3B4455;\n",
              "      fill: #D2E3FC;\n",
              "    }\n",
              "\n",
              "    [theme=dark] .colab-df-convert:hover {\n",
              "      background-color: #434B5C;\n",
              "      box-shadow: 0px 1px 3px 1px rgba(0, 0, 0, 0.15);\n",
              "      filter: drop-shadow(0px 1px 2px rgba(0, 0, 0, 0.3));\n",
              "      fill: #FFFFFF;\n",
              "    }\n",
              "  </style>\n",
              "\n",
              "      <script>\n",
              "        const buttonEl =\n",
              "          document.querySelector('#df-d29af382-41bf-4528-9749-715293e5b2d8 button.colab-df-convert');\n",
              "        buttonEl.style.display =\n",
              "          google.colab.kernel.accessAllowed ? 'block' : 'none';\n",
              "\n",
              "        async function convertToInteractive(key) {\n",
              "          const element = document.querySelector('#df-d29af382-41bf-4528-9749-715293e5b2d8');\n",
              "          const dataTable =\n",
              "            await google.colab.kernel.invokeFunction('convertToInteractive',\n",
              "                                                     [key], {});\n",
              "          if (!dataTable) return;\n",
              "\n",
              "          const docLinkHtml = 'Like what you see? Visit the ' +\n",
              "            '<a target=\"_blank\" href=https://colab.research.google.com/notebooks/data_table.ipynb>data table notebook</a>'\n",
              "            + ' to learn more about interactive tables.';\n",
              "          element.innerHTML = '';\n",
              "          dataTable['output_type'] = 'display_data';\n",
              "          await google.colab.output.renderOutput(dataTable, element);\n",
              "          const docLink = document.createElement('div');\n",
              "          docLink.innerHTML = docLinkHtml;\n",
              "          element.appendChild(docLink);\n",
              "        }\n",
              "      </script>\n",
              "    </div>\n",
              "  </div>\n",
              "  "
            ]
          },
          "metadata": {},
          "execution_count": 4
        }
      ]
    },
    {
      "cell_type": "code",
      "source": [
        "train.dtypes"
      ],
      "metadata": {
        "colab": {
          "base_uri": "https://localhost:8080/"
        },
        "id": "d1FjYfplUVtX",
        "outputId": "f6a4d0bf-fb5f-4430-c098-ce6421c8adaa"
      },
      "execution_count": 5,
      "outputs": [
        {
          "output_type": "execute_result",
          "data": {
            "text/plain": [
              "UserId        object\n",
              "ProductId     object\n",
              "Rating       float64\n",
              "Timestamp      int64\n",
              "dtype: object"
            ]
          },
          "metadata": {},
          "execution_count": 5
        }
      ]
    },
    {
      "cell_type": "code",
      "source": [
        "train.UserID = train.UserId.astype(str)\n",
        "train.Rating = train.Rating.astype(int)\n",
        "train.head(2)"
      ],
      "metadata": {
        "colab": {
          "base_uri": "https://localhost:8080/",
          "height": 169
        },
        "id": "iGf6Y0M-UV8w",
        "outputId": "1e23b9ca-fc24-400c-ba99-abeb783bb927"
      },
      "execution_count": 6,
      "outputs": [
        {
          "output_type": "stream",
          "name": "stderr",
          "text": [
            "/usr/local/lib/python3.7/dist-packages/ipykernel_launcher.py:1: UserWarning: Pandas doesn't allow columns to be created via a new attribute name - see https://pandas.pydata.org/pandas-docs/stable/indexing.html#attribute-access\n",
            "  \"\"\"Entry point for launching an IPython kernel.\n"
          ]
        },
        {
          "output_type": "execute_result",
          "data": {
            "text/plain": [
              "           UserId   ProductId  Rating   Timestamp\n",
              "0  A39HTATAQ9V7YF  0205616461       5  1369699200\n",
              "1  A3JM6GV9MNOF9X  0558925278       3  1355443200"
            ],
            "text/html": [
              "\n",
              "  <div id=\"df-65e8c802-007b-4ea8-b8e9-b520671e4787\">\n",
              "    <div class=\"colab-df-container\">\n",
              "      <div>\n",
              "<style scoped>\n",
              "    .dataframe tbody tr th:only-of-type {\n",
              "        vertical-align: middle;\n",
              "    }\n",
              "\n",
              "    .dataframe tbody tr th {\n",
              "        vertical-align: top;\n",
              "    }\n",
              "\n",
              "    .dataframe thead th {\n",
              "        text-align: right;\n",
              "    }\n",
              "</style>\n",
              "<table border=\"1\" class=\"dataframe\">\n",
              "  <thead>\n",
              "    <tr style=\"text-align: right;\">\n",
              "      <th></th>\n",
              "      <th>UserId</th>\n",
              "      <th>ProductId</th>\n",
              "      <th>Rating</th>\n",
              "      <th>Timestamp</th>\n",
              "    </tr>\n",
              "  </thead>\n",
              "  <tbody>\n",
              "    <tr>\n",
              "      <th>0</th>\n",
              "      <td>A39HTATAQ9V7YF</td>\n",
              "      <td>0205616461</td>\n",
              "      <td>5</td>\n",
              "      <td>1369699200</td>\n",
              "    </tr>\n",
              "    <tr>\n",
              "      <th>1</th>\n",
              "      <td>A3JM6GV9MNOF9X</td>\n",
              "      <td>0558925278</td>\n",
              "      <td>3</td>\n",
              "      <td>1355443200</td>\n",
              "    </tr>\n",
              "  </tbody>\n",
              "</table>\n",
              "</div>\n",
              "      <button class=\"colab-df-convert\" onclick=\"convertToInteractive('df-65e8c802-007b-4ea8-b8e9-b520671e4787')\"\n",
              "              title=\"Convert this dataframe to an interactive table.\"\n",
              "              style=\"display:none;\">\n",
              "        \n",
              "  <svg xmlns=\"http://www.w3.org/2000/svg\" height=\"24px\"viewBox=\"0 0 24 24\"\n",
              "       width=\"24px\">\n",
              "    <path d=\"M0 0h24v24H0V0z\" fill=\"none\"/>\n",
              "    <path d=\"M18.56 5.44l.94 2.06.94-2.06 2.06-.94-2.06-.94-.94-2.06-.94 2.06-2.06.94zm-11 1L8.5 8.5l.94-2.06 2.06-.94-2.06-.94L8.5 2.5l-.94 2.06-2.06.94zm10 10l.94 2.06.94-2.06 2.06-.94-2.06-.94-.94-2.06-.94 2.06-2.06.94z\"/><path d=\"M17.41 7.96l-1.37-1.37c-.4-.4-.92-.59-1.43-.59-.52 0-1.04.2-1.43.59L10.3 9.45l-7.72 7.72c-.78.78-.78 2.05 0 2.83L4 21.41c.39.39.9.59 1.41.59.51 0 1.02-.2 1.41-.59l7.78-7.78 2.81-2.81c.8-.78.8-2.07 0-2.86zM5.41 20L4 18.59l7.72-7.72 1.47 1.35L5.41 20z\"/>\n",
              "  </svg>\n",
              "      </button>\n",
              "      \n",
              "  <style>\n",
              "    .colab-df-container {\n",
              "      display:flex;\n",
              "      flex-wrap:wrap;\n",
              "      gap: 12px;\n",
              "    }\n",
              "\n",
              "    .colab-df-convert {\n",
              "      background-color: #E8F0FE;\n",
              "      border: none;\n",
              "      border-radius: 50%;\n",
              "      cursor: pointer;\n",
              "      display: none;\n",
              "      fill: #1967D2;\n",
              "      height: 32px;\n",
              "      padding: 0 0 0 0;\n",
              "      width: 32px;\n",
              "    }\n",
              "\n",
              "    .colab-df-convert:hover {\n",
              "      background-color: #E2EBFA;\n",
              "      box-shadow: 0px 1px 2px rgba(60, 64, 67, 0.3), 0px 1px 3px 1px rgba(60, 64, 67, 0.15);\n",
              "      fill: #174EA6;\n",
              "    }\n",
              "\n",
              "    [theme=dark] .colab-df-convert {\n",
              "      background-color: #3B4455;\n",
              "      fill: #D2E3FC;\n",
              "    }\n",
              "\n",
              "    [theme=dark] .colab-df-convert:hover {\n",
              "      background-color: #434B5C;\n",
              "      box-shadow: 0px 1px 3px 1px rgba(0, 0, 0, 0.15);\n",
              "      filter: drop-shadow(0px 1px 2px rgba(0, 0, 0, 0.3));\n",
              "      fill: #FFFFFF;\n",
              "    }\n",
              "  </style>\n",
              "\n",
              "      <script>\n",
              "        const buttonEl =\n",
              "          document.querySelector('#df-65e8c802-007b-4ea8-b8e9-b520671e4787 button.colab-df-convert');\n",
              "        buttonEl.style.display =\n",
              "          google.colab.kernel.accessAllowed ? 'block' : 'none';\n",
              "\n",
              "        async function convertToInteractive(key) {\n",
              "          const element = document.querySelector('#df-65e8c802-007b-4ea8-b8e9-b520671e4787');\n",
              "          const dataTable =\n",
              "            await google.colab.kernel.invokeFunction('convertToInteractive',\n",
              "                                                     [key], {});\n",
              "          if (!dataTable) return;\n",
              "\n",
              "          const docLinkHtml = 'Like what you see? Visit the ' +\n",
              "            '<a target=\"_blank\" href=https://colab.research.google.com/notebooks/data_table.ipynb>data table notebook</a>'\n",
              "            + ' to learn more about interactive tables.';\n",
              "          element.innerHTML = '';\n",
              "          dataTable['output_type'] = 'display_data';\n",
              "          await google.colab.output.renderOutput(dataTable, element);\n",
              "          const docLink = document.createElement('div');\n",
              "          docLink.innerHTML = docLinkHtml;\n",
              "          element.appendChild(docLink);\n",
              "        }\n",
              "      </script>\n",
              "    </div>\n",
              "  </div>\n",
              "  "
            ]
          },
          "metadata": {},
          "execution_count": 6
        }
      ]
    },
    {
      "cell_type": "code",
      "source": [
        "train.dtypes"
      ],
      "metadata": {
        "colab": {
          "base_uri": "https://localhost:8080/"
        },
        "id": "PpDPF0aMUbSf",
        "outputId": "2edd9687-4916-4e51-b6dc-03ed730f7ea8"
      },
      "execution_count": 7,
      "outputs": [
        {
          "output_type": "execute_result",
          "data": {
            "text/plain": [
              "UserId       object\n",
              "ProductId    object\n",
              "Rating        int64\n",
              "Timestamp     int64\n",
              "dtype: object"
            ]
          },
          "metadata": {},
          "execution_count": 7
        }
      ]
    },
    {
      "cell_type": "code",
      "source": [
        "ratings = tf.data.Dataset.from_tensor_slices({\n",
        "    \"user_id\": train.UserID.tolist(),\n",
        "    \"Product_id\": train.ProductId.tolist(),\n",
        "    \"rating\": train.Rating.tolist(),\n",
        "    \"timestamp\": train.Timestamp.tolist()\n",
        "})"
      ],
      "metadata": {
        "id": "UCpIzgxCUboq"
      },
      "execution_count": 8,
      "outputs": []
    },
    {
      "cell_type": "code",
      "source": [
        "for x in ratings.take(1).as_numpy_iterator():\n",
        "  pprint.pprint(x)"
      ],
      "metadata": {
        "colab": {
          "base_uri": "https://localhost:8080/"
        },
        "id": "FjCOpf-RUkgf",
        "outputId": "ba6c5e4e-ef58-4b01-eb86-e9b9aa9172c1"
      },
      "execution_count": 9,
      "outputs": [
        {
          "output_type": "stream",
          "name": "stdout",
          "text": [
            "{'Product_id': b'0205616461',\n",
            " 'rating': 5,\n",
            " 'timestamp': 1369699200,\n",
            " 'user_id': b'A39HTATAQ9V7YF'}\n"
          ]
        }
      ]
    },
    {
      "cell_type": "code",
      "source": [
        "list(ratings.take(2).as_numpy_iterator())"
      ],
      "metadata": {
        "colab": {
          "base_uri": "https://localhost:8080/"
        },
        "id": "IUzSgcPbUkwy",
        "outputId": "aa4391c1-d349-49ae-a31c-9026febdf70a"
      },
      "execution_count": 10,
      "outputs": [
        {
          "output_type": "execute_result",
          "data": {
            "text/plain": [
              "[{'Product_id': b'0205616461',\n",
              "  'rating': 5,\n",
              "  'timestamp': 1369699200,\n",
              "  'user_id': b'A39HTATAQ9V7YF'},\n",
              " {'Product_id': b'0558925278',\n",
              "  'rating': 3,\n",
              "  'timestamp': 1355443200,\n",
              "  'user_id': b'A3JM6GV9MNOF9X'}]"
            ]
          },
          "metadata": {},
          "execution_count": 10
        }
      ]
    },
    {
      "cell_type": "code",
      "source": [
        "ratings = ratings.map(lambda x: {\n",
        "    \"Product_id\": x[\"Product_id\"],\n",
        "    \"user_id\": x[\"user_id\"],\n",
        "})"
      ],
      "metadata": {
        "id": "mSRRSGObUk-x"
      },
      "execution_count": 11,
      "outputs": []
    },
    {
      "cell_type": "code",
      "source": [
        "list(ratings.take(2).as_numpy_iterator())"
      ],
      "metadata": {
        "colab": {
          "base_uri": "https://localhost:8080/"
        },
        "id": "74OVREy-Ure4",
        "outputId": "d54bd791-ba90-4130-91a4-e3b92b799a41"
      },
      "execution_count": 12,
      "outputs": [
        {
          "output_type": "execute_result",
          "data": {
            "text/plain": [
              "[{'Product_id': b'0205616461', 'user_id': b'A39HTATAQ9V7YF'},\n",
              " {'Product_id': b'0558925278', 'user_id': b'A3JM6GV9MNOF9X'}]"
            ]
          },
          "metadata": {},
          "execution_count": 12
        }
      ]
    },
    {
      "cell_type": "code",
      "source": [
        "products = tf.data.Dataset.from_tensor_slices({\n",
        "    \"Product_id\": train.ProductId.tolist()\n",
        "})"
      ],
      "metadata": {
        "id": "MFtkzuOEUrlg"
      },
      "execution_count": 13,
      "outputs": []
    },
    {
      "cell_type": "code",
      "source": [
        "list(products.take(2).as_numpy_iterator())"
      ],
      "metadata": {
        "colab": {
          "base_uri": "https://localhost:8080/"
        },
        "id": "pHjlWswVUr8P",
        "outputId": "a9819168-34c4-42da-f2b2-a8dddbcca5a6"
      },
      "execution_count": 14,
      "outputs": [
        {
          "output_type": "execute_result",
          "data": {
            "text/plain": [
              "[{'Product_id': b'0205616461'}, {'Product_id': b'0558925278'}]"
            ]
          },
          "metadata": {},
          "execution_count": 14
        }
      ]
    },
    {
      "cell_type": "code",
      "source": [
        "products = products.map(lambda x: x[\"Product_id\"])\n",
        "list(products.take(2).as_numpy_iterator())\n",
        "\n",
        "products = products.unique()\n",
        "list(products.take(2).as_numpy_iterator())"
      ],
      "metadata": {
        "colab": {
          "base_uri": "https://localhost:8080/"
        },
        "id": "yjvi70x0UzWk",
        "outputId": "33c52e94-9883-4978-af34-d6f1db341a62"
      },
      "execution_count": 15,
      "outputs": [
        {
          "output_type": "execute_result",
          "data": {
            "text/plain": [
              "[b'0205616461', b'0558925278']"
            ]
          },
          "metadata": {},
          "execution_count": 15
        }
      ]
    },
    {
      "cell_type": "code",
      "source": [
        "tf.random.set_seed(42)\n",
        "shuffled = ratings.shuffle(total_data, seed=42, reshuffle_each_iteration=False)\n",
        "\n",
        "train = shuffled.take(train_data)\n",
        "test = shuffled.skip(train_data).take(test_data)\n",
        "\n",
        "user_ids = ratings.batch(1_000_000).map(lambda x: x[\"user_id\"])\n",
        "product_ids = products.batch(1_000)\n",
        "\n",
        "unique_user_ids = np.unique(np.concatenate(list(user_ids)))\n",
        "unique_product_ids = np.unique(np.concatenate(list(product_ids)))\n",
        "\n",
        "unique_product_ids[:10]\n",
        "\n",
        "len(unique_user_ids), len(unique_product_ids)\n",
        "\n",
        "embedding_dimension = 32\n",
        "\n",
        "user_model = tf.keras.Sequential([\n",
        "  tf.keras.layers.StringLookup(\n",
        "      vocabulary=unique_user_ids, mask_token=None),\n",
        "  # We add an additional embedding to account for unknown tokens.\n",
        "  tf.keras.layers.Embedding(len(unique_user_ids) + 1, embedding_dimension)\n",
        "])\n",
        "\n",
        "products_model = tf.keras.Sequential([\n",
        "  tf.keras.layers.StringLookup(\n",
        "      vocabulary=unique_product_ids, mask_token=None),\n",
        "  tf.keras.layers.Embedding(len(unique_product_ids) + 1, embedding_dimension)\n",
        "])\n",
        "\n",
        "metrics = tfrs.metrics.FactorizedTopK(\n",
        "  candidates=products.batch(128).map(products_model)\n",
        ")\n",
        "\n",
        "task = tfrs.tasks.Retrieval(\n",
        "  metrics=metrics\n",
        ")"
      ],
      "metadata": {
        "id": "SHrZqzXwUzmo"
      },
      "execution_count": 16,
      "outputs": []
    },
    {
      "cell_type": "code",
      "source": [
        "class ProductsModel(tfrs.Model):\n",
        "\n",
        "  def __init__(self, user_model, products_model):\n",
        "    super().__init__()\n",
        "    self.products_model: tf.keras.Model = products_model\n",
        "    self.user_model: tf.keras.Model = user_model\n",
        "    self.task: tf.keras.layers.Layer = task\n",
        "\n",
        "  def compute_loss(self, features: Dict[Text, tf.Tensor], training=False) -> tf.Tensor:\n",
        "    # We pick out the user features and pass them into the user model.\n",
        "    user_embeddings = self.user_model(features[\"user_id\"])\n",
        "    # And pick out the product features and pass them into the product model,\n",
        "    # getting embeddings back.\n",
        "    positive_products_embeddings = self.products_model(features[\"Product_id\"])\n",
        "\n",
        "    # The task computes the loss and the metrics.\n",
        "    return self.task(user_embeddings, positive_products_embeddings)"
      ],
      "metadata": {
        "id": "7_GbUqlaUzyB"
      },
      "execution_count": 17,
      "outputs": []
    },
    {
      "cell_type": "code",
      "source": [
        "class NoBaseClassProductsModel(tf.keras.Model):\n",
        "\n",
        "  def __init__(self, user_model, products_model):\n",
        "    super().__init__()\n",
        "    self.products_model: tf.keras.Model = products_model\n",
        "    self.user_model: tf.keras.Model = user_model\n",
        "    self.task: tf.keras.layers.Layer = task\n",
        "\n",
        "  def train_step(self, features: Dict[Text, tf.Tensor]) -> tf.Tensor:\n",
        "\n",
        "    # Set up a gradient tape to record gradients.\n",
        "    with tf.GradientTape() as tape:\n",
        "\n",
        "      # Loss computation.\n",
        "      user_embeddings = self.user_model(features[\"user_id\"])\n",
        "      positive_product_embeddings = self.products_model(features[\"Product_id\"])\n",
        "      loss = self.task(user_embeddings, positive_products_embeddings)\n",
        "\n",
        "      # Handle regularization losses as well.\n",
        "      regularization_loss = sum(self.losses)\n",
        "\n",
        "      total_loss = loss + regularization_loss\n",
        "\n",
        "    gradients = tape.gradient(total_loss, self.trainable_variables)\n",
        "    self.optimizer.apply_gradients(zip(gradients, self.trainable_variables))\n",
        "\n",
        "    metrics = {metric.name: metric.result() for metric in self.metrics}\n",
        "    metrics[\"loss\"] = loss\n",
        "    metrics[\"regularization_loss\"] = regularization_loss\n",
        "    metrics[\"total_loss\"] = total_loss\n",
        "\n",
        "    return metrics\n",
        "\n",
        "  def test_step(self, features: Dict[Text, tf.Tensor]) -> tf.Tensor:\n",
        "\n",
        "    # Loss computation.\n",
        "    user_embeddings = self.user_model(features[\"user_id\"])\n",
        "    positive_products_embeddings = self.products_model(features[\"Product_id\"])\n",
        "    loss = self.task(user_embeddings, positive_products_embeddings)\n",
        "\n",
        "    # Handle regularization losses as well.\n",
        "    regularization_loss = sum(self.losses)\n",
        "\n",
        "    total_loss = loss + regularization_loss\n",
        "\n",
        "    metrics = {metric.name: metric.result() for metric in self.metrics}\n",
        "    metrics[\"loss\"] = loss\n",
        "    metrics[\"regularization_loss\"] = regularization_loss\n",
        "    metrics[\"total_loss\"] = total_loss\n",
        "\n",
        "    return metrics"
      ],
      "metadata": {
        "id": "l_-urxMeUHmA"
      },
      "execution_count": 18,
      "outputs": []
    },
    {
      "cell_type": "code",
      "source": [
        "model = ProductsModel(user_model, products_model)\n",
        "model.compile(optimizer=tf.keras.optimizers.Adagrad(learning_rate=0.1))\n",
        "\n",
        "cached_train = train.shuffle(total_data).batch(8192).cache()\n",
        "cached_test = test.batch(4096).cache()\n",
        "\n",
        "history_train = model.fit(cached_train, validation_data=cached_test, epochs=10)\n",
        "\n",
        "model.evaluate(cached_test, return_dict=True)"
      ],
      "metadata": {
        "colab": {
          "base_uri": "https://localhost:8080/"
        },
        "id": "patBTHd2VbSL",
        "outputId": "407ac3b6-7aef-475f-ff11-c3f9271265cc"
      },
      "execution_count": 19,
      "outputs": [
        {
          "output_type": "stream",
          "name": "stdout",
          "text": [
            "Epoch 1/10\n",
            "10/10 [==============================] - 124s 12s/step - factorized_top_k/top_1_categorical_accuracy: 7.3750e-04 - factorized_top_k/top_5_categorical_accuracy: 0.0107 - factorized_top_k/top_10_categorical_accuracy: 0.0194 - factorized_top_k/top_50_categorical_accuracy: 0.0572 - factorized_top_k/top_100_categorical_accuracy: 0.0818 - loss: 70367.2379 - regularization_loss: 0.0000e+00 - total_loss: 70367.2379 - val_factorized_top_k/top_1_categorical_accuracy: 0.0034 - val_factorized_top_k/top_5_categorical_accuracy: 0.0167 - val_factorized_top_k/top_10_categorical_accuracy: 0.0294 - val_factorized_top_k/top_50_categorical_accuracy: 0.0807 - val_factorized_top_k/top_100_categorical_accuracy: 0.1135 - val_loss: 29625.1328 - val_regularization_loss: 0.0000e+00 - val_total_loss: 29625.1328\n",
            "Epoch 2/10\n",
            "10/10 [==============================] - 79s 8s/step - factorized_top_k/top_1_categorical_accuracy: 0.0273 - factorized_top_k/top_5_categorical_accuracy: 0.3469 - factorized_top_k/top_10_categorical_accuracy: 0.4191 - factorized_top_k/top_50_categorical_accuracy: 0.6177 - factorized_top_k/top_100_categorical_accuracy: 0.7224 - loss: 69502.3473 - regularization_loss: 0.0000e+00 - total_loss: 69502.3473 - val_factorized_top_k/top_1_categorical_accuracy: 0.0029 - val_factorized_top_k/top_5_categorical_accuracy: 0.0185 - val_factorized_top_k/top_10_categorical_accuracy: 0.0338 - val_factorized_top_k/top_50_categorical_accuracy: 0.1076 - val_factorized_top_k/top_100_categorical_accuracy: 0.1595 - val_loss: 29625.3457 - val_regularization_loss: 0.0000e+00 - val_total_loss: 29625.3457\n",
            "Epoch 3/10\n",
            "10/10 [==============================] - 96s 10s/step - factorized_top_k/top_1_categorical_accuracy: 0.0682 - factorized_top_k/top_5_categorical_accuracy: 0.6402 - factorized_top_k/top_10_categorical_accuracy: 0.6871 - factorized_top_k/top_50_categorical_accuracy: 0.7978 - factorized_top_k/top_100_categorical_accuracy: 0.8560 - loss: 63977.0295 - regularization_loss: 0.0000e+00 - total_loss: 63977.0295 - val_factorized_top_k/top_1_categorical_accuracy: 0.0019 - val_factorized_top_k/top_5_categorical_accuracy: 0.0152 - val_factorized_top_k/top_10_categorical_accuracy: 0.0286 - val_factorized_top_k/top_50_categorical_accuracy: 0.1004 - val_factorized_top_k/top_100_categorical_accuracy: 0.1545 - val_loss: 29687.6641 - val_regularization_loss: 0.0000e+00 - val_total_loss: 29687.6641\n",
            "Epoch 4/10\n",
            "10/10 [==============================] - 94s 10s/step - factorized_top_k/top_1_categorical_accuracy: 0.0905 - factorized_top_k/top_5_categorical_accuracy: 0.7241 - factorized_top_k/top_10_categorical_accuracy: 0.7597 - factorized_top_k/top_50_categorical_accuracy: 0.8408 - factorized_top_k/top_100_categorical_accuracy: 0.8802 - loss: 52118.2869 - regularization_loss: 0.0000e+00 - total_loss: 52118.2869 - val_factorized_top_k/top_1_categorical_accuracy: 0.0014 - val_factorized_top_k/top_5_categorical_accuracy: 0.0107 - val_factorized_top_k/top_10_categorical_accuracy: 0.0221 - val_factorized_top_k/top_50_categorical_accuracy: 0.0871 - val_factorized_top_k/top_100_categorical_accuracy: 0.1386 - val_loss: 29974.2520 - val_regularization_loss: 0.0000e+00 - val_total_loss: 29974.2520\n",
            "Epoch 5/10\n",
            "10/10 [==============================] - 103s 10s/step - factorized_top_k/top_1_categorical_accuracy: 0.1201 - factorized_top_k/top_5_categorical_accuracy: 0.7806 - factorized_top_k/top_10_categorical_accuracy: 0.8083 - factorized_top_k/top_50_categorical_accuracy: 0.8694 - factorized_top_k/top_100_categorical_accuracy: 0.8999 - loss: 41058.2248 - regularization_loss: 0.0000e+00 - total_loss: 41058.2248 - val_factorized_top_k/top_1_categorical_accuracy: 0.0012 - val_factorized_top_k/top_5_categorical_accuracy: 0.0080 - val_factorized_top_k/top_10_categorical_accuracy: 0.0158 - val_factorized_top_k/top_50_categorical_accuracy: 0.0709 - val_factorized_top_k/top_100_categorical_accuracy: 0.1186 - val_loss: 30294.5957 - val_regularization_loss: 0.0000e+00 - val_total_loss: 30294.5957\n",
            "Epoch 6/10\n",
            "10/10 [==============================] - 91s 9s/step - factorized_top_k/top_1_categorical_accuracy: 0.1659 - factorized_top_k/top_5_categorical_accuracy: 0.8266 - factorized_top_k/top_10_categorical_accuracy: 0.8477 - factorized_top_k/top_50_categorical_accuracy: 0.8944 - factorized_top_k/top_100_categorical_accuracy: 0.9173 - loss: 34357.6516 - regularization_loss: 0.0000e+00 - total_loss: 34357.6516 - val_factorized_top_k/top_1_categorical_accuracy: 5.5000e-04 - val_factorized_top_k/top_5_categorical_accuracy: 0.0066 - val_factorized_top_k/top_10_categorical_accuracy: 0.0124 - val_factorized_top_k/top_50_categorical_accuracy: 0.0578 - val_factorized_top_k/top_100_categorical_accuracy: 0.1023 - val_loss: 30535.4199 - val_regularization_loss: 0.0000e+00 - val_total_loss: 30535.4199\n",
            "Epoch 7/10\n",
            "10/10 [==============================] - 80s 8s/step - factorized_top_k/top_1_categorical_accuracy: 0.2351 - factorized_top_k/top_5_categorical_accuracy: 0.8599 - factorized_top_k/top_10_categorical_accuracy: 0.8772 - factorized_top_k/top_50_categorical_accuracy: 0.9141 - factorized_top_k/top_100_categorical_accuracy: 0.9315 - loss: 30225.0444 - regularization_loss: 0.0000e+00 - total_loss: 30225.0444 - val_factorized_top_k/top_1_categorical_accuracy: 4.0000e-04 - val_factorized_top_k/top_5_categorical_accuracy: 0.0055 - val_factorized_top_k/top_10_categorical_accuracy: 0.0104 - val_factorized_top_k/top_50_categorical_accuracy: 0.0482 - val_factorized_top_k/top_100_categorical_accuracy: 0.0883 - val_loss: 30727.1523 - val_regularization_loss: 0.0000e+00 - val_total_loss: 30727.1523\n",
            "Epoch 8/10\n",
            "10/10 [==============================] - 81s 8s/step - factorized_top_k/top_1_categorical_accuracy: 0.2882 - factorized_top_k/top_5_categorical_accuracy: 0.8849 - factorized_top_k/top_10_categorical_accuracy: 0.9003 - factorized_top_k/top_50_categorical_accuracy: 0.9292 - factorized_top_k/top_100_categorical_accuracy: 0.9446 - loss: 27407.5975 - regularization_loss: 0.0000e+00 - total_loss: 27407.5975 - val_factorized_top_k/top_1_categorical_accuracy: 3.5000e-04 - val_factorized_top_k/top_5_categorical_accuracy: 0.0052 - val_factorized_top_k/top_10_categorical_accuracy: 0.0097 - val_factorized_top_k/top_50_categorical_accuracy: 0.0424 - val_factorized_top_k/top_100_categorical_accuracy: 0.0777 - val_loss: 30886.2344 - val_regularization_loss: 0.0000e+00 - val_total_loss: 30886.2344\n",
            "Epoch 9/10\n",
            "10/10 [==============================] - 82s 8s/step - factorized_top_k/top_1_categorical_accuracy: 0.3160 - factorized_top_k/top_5_categorical_accuracy: 0.9039 - factorized_top_k/top_10_categorical_accuracy: 0.9165 - factorized_top_k/top_50_categorical_accuracy: 0.9427 - factorized_top_k/top_100_categorical_accuracy: 0.9526 - loss: 25388.4867 - regularization_loss: 0.0000e+00 - total_loss: 25388.4867 - val_factorized_top_k/top_1_categorical_accuracy: 3.5000e-04 - val_factorized_top_k/top_5_categorical_accuracy: 0.0048 - val_factorized_top_k/top_10_categorical_accuracy: 0.0089 - val_factorized_top_k/top_50_categorical_accuracy: 0.0380 - val_factorized_top_k/top_100_categorical_accuracy: 0.0708 - val_loss: 31020.6211 - val_regularization_loss: 0.0000e+00 - val_total_loss: 31020.6211\n",
            "Epoch 10/10\n",
            "10/10 [==============================] - 94s 9s/step - factorized_top_k/top_1_categorical_accuracy: 0.3437 - factorized_top_k/top_5_categorical_accuracy: 0.9174 - factorized_top_k/top_10_categorical_accuracy: 0.9297 - factorized_top_k/top_50_categorical_accuracy: 0.9506 - factorized_top_k/top_100_categorical_accuracy: 0.9599 - loss: 23897.0213 - regularization_loss: 0.0000e+00 - total_loss: 23897.0213 - val_factorized_top_k/top_1_categorical_accuracy: 5.0000e-04 - val_factorized_top_k/top_5_categorical_accuracy: 0.0045 - val_factorized_top_k/top_10_categorical_accuracy: 0.0088 - val_factorized_top_k/top_50_categorical_accuracy: 0.0353 - val_factorized_top_k/top_100_categorical_accuracy: 0.0662 - val_loss: 31137.8027 - val_regularization_loss: 0.0000e+00 - val_total_loss: 31137.8027\n",
            "5/5 [==============================] - 15s 3s/step - factorized_top_k/top_1_categorical_accuracy: 5.0000e-04 - factorized_top_k/top_5_categorical_accuracy: 0.0045 - factorized_top_k/top_10_categorical_accuracy: 0.0088 - factorized_top_k/top_50_categorical_accuracy: 0.0353 - factorized_top_k/top_100_categorical_accuracy: 0.0662 - loss: 34150.9590 - regularization_loss: 0.0000e+00 - total_loss: 34150.9590\n"
          ]
        },
        {
          "output_type": "execute_result",
          "data": {
            "text/plain": [
              "{'factorized_top_k/top_100_categorical_accuracy': 0.06615000218153,\n",
              " 'factorized_top_k/top_10_categorical_accuracy': 0.008799999952316284,\n",
              " 'factorized_top_k/top_1_categorical_accuracy': 0.0005000000237487257,\n",
              " 'factorized_top_k/top_50_categorical_accuracy': 0.03525000065565109,\n",
              " 'factorized_top_k/top_5_categorical_accuracy': 0.0044999998062849045,\n",
              " 'loss': 31137.802734375,\n",
              " 'regularization_loss': 0,\n",
              " 'total_loss': 31137.802734375}"
            ]
          },
          "metadata": {},
          "execution_count": 19
        }
      ]
    },
    {
      "cell_type": "code",
      "source": [
        "# Create a model that takes in raw query features, and\n",
        "index = tfrs.layers.factorized_top_k.BruteForce(model.user_model)\n",
        "\n",
        "# recommends products out of the entire products dataset.\n",
        "index.index_from_dataset(\n",
        "  tf.data.Dataset.zip((products.batch(100), products.batch(100).map(model.products_model)))\n",
        ")"
      ],
      "metadata": {
        "colab": {
          "base_uri": "https://localhost:8080/"
        },
        "id": "6ReyK_nfVbiv",
        "outputId": "c3c1526c-91e5-4313-ff35-0e26591aadeb"
      },
      "execution_count": 20,
      "outputs": [
        {
          "output_type": "execute_result",
          "data": {
            "text/plain": [
              "<tensorflow_recommenders.layers.factorized_top_k.BruteForce at 0x7f2277d3b4d0>"
            ]
          },
          "metadata": {},
          "execution_count": 20
        }
      ]
    },
    {
      "cell_type": "code",
      "source": [
        "# Get recommendations.\n",
        "_, titles = index(tf.constant([\"42\"]))\n",
        "print(f\"Recommendations for user 42: {titles[0, :3]}\")"
      ],
      "metadata": {
        "colab": {
          "base_uri": "https://localhost:8080/"
        },
        "id": "Dv8JZ2eVVbw9",
        "outputId": "54a74688-e56f-4c82-802a-c51d9e8c08f2"
      },
      "execution_count": 21,
      "outputs": [
        {
          "output_type": "stream",
          "name": "stdout",
          "text": [
            "Recommendations for user 42: [b'B00023DIAY' b'B0000530O9' b'B0002UEDWE']\n"
          ]
        }
      ]
    },
    {
      "cell_type": "code",
      "source": [
        "# Export the query model.\n",
        "with tempfile.TemporaryDirectory() as tmp:\n",
        "  path = os.path.join(base, \"model\")"
      ],
      "metadata": {
        "id": "KR-1F9cFVxXw"
      },
      "execution_count": 22,
      "outputs": []
    },
    {
      "cell_type": "code",
      "source": [
        "  # Save the index.\n",
        "  tf.saved_model.save(index, path)\n",
        "\n",
        "  # Load it back; can also be done in TensorFlow Serving.\n",
        "  loaded = tf.saved_model.load(path)\n",
        "\n",
        "  # Pass a user id in, get top predicted product titles back.\n",
        "  scores, titles = loaded([\"A39HTATAQ9V7YF\"])\n",
        "\n",
        "  print(f\"Recommendations: {titles[0][:3]}\")"
      ],
      "metadata": {
        "colab": {
          "base_uri": "https://localhost:8080/"
        },
        "id": "OEUCkVwsVRXP",
        "outputId": "60bb2d46-3c5d-479d-881d-12619cb256e3"
      },
      "execution_count": 23,
      "outputs": [
        {
          "output_type": "stream",
          "name": "stderr",
          "text": [
            "WARNING:absl:Found untraced functions such as query_with_exclusions while saving (showing 1 of 1). These functions will not be directly callable after loading.\n"
          ]
        },
        {
          "output_type": "stream",
          "name": "stdout",
          "text": [
            "INFO:tensorflow:Assets written to: /content/model/assets\n"
          ]
        },
        {
          "output_type": "stream",
          "name": "stderr",
          "text": [
            "INFO:tensorflow:Assets written to: /content/model/assets\n"
          ]
        },
        {
          "output_type": "stream",
          "name": "stdout",
          "text": [
            "Recommendations: [b'B00006IQ95' b'B0002IVS9M' b'B0000ZHGZ2']\n"
          ]
        }
      ]
    },
    {
      "cell_type": "code",
      "source": [
        "# print(history)\n",
        "import matplotlib.pyplot as plt\n",
        "\n",
        "plt.plot(history_train.history[\"loss\"])\n",
        "plt.plot(history_train.history[\"val_loss\"])\n",
        "plt.title(\"Model losses during training\")\n",
        "plt.xlabel(\"epoch\")\n",
        "plt.ylabel(\"loss\")\n",
        "plt.legend([\"train\", \"test\"], loc=\"upper right\")\n",
        "plt.show()\n",
        "\n",
        "plt.plot(history_train.history[\"factorized_top_k/top_5_categorical_accuracy\"])\n",
        "plt.plot(history_train.history[\"val_factorized_top_k/top_5_categorical_accuracy\"])\n",
        "plt.title(\"Model accuracies during training\")\n",
        "plt.xlabel(\"epoch\")\n",
        "plt.ylabel(\"accuracy\")\n",
        "plt.legend([\"train\", \"test\"], loc=\"upper right\")\n",
        "plt.show()\n"
      ],
      "metadata": {
        "colab": {
          "base_uri": "https://localhost:8080/",
          "height": 573
        },
        "id": "5j-5lyVYVR62",
        "outputId": "f5810562-f2d9-4a6f-b100-532832a108ac"
      },
      "execution_count": 24,
      "outputs": [
        {
          "output_type": "display_data",
          "data": {
            "text/plain": [
              "<Figure size 432x288 with 1 Axes>"
            ],
            "image/png": "[encoded data removed]"
          },
          "metadata": {
            "needs_background": "light"
          }
        },
        {
          "output_type": "display_data",
          "data": {
            "text/plain": [
              "<Figure size 432x288 with 1 Axes>"
            ],
            "image/png": "[encoded data removed]"
          },
          "metadata": {
            "needs_background": "light"
          }
        }
      ]
    }
  ]
}